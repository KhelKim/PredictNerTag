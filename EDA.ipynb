{
 "cells": [
  {
   "cell_type": "code",
   "execution_count": 1,
   "metadata": {},
   "outputs": [],
   "source": [
    "import os\n",
    "import matplotlib.pyplot as plt\n",
    "import numpy as np\n",
    "import json\n",
    "from module.EDA import *"
   ]
  },
  {
   "cell_type": "code",
   "execution_count": 2,
   "metadata": {},
   "outputs": [],
   "source": [
    "DATA_ROOT = 'dataset'\n",
    "DATA_NAME = 'train_data.txt'\n",
    "DATA_PATH = os.path.join(DATA_ROOT, DATA_NAME)\n",
    "\n",
    "text_raw = get_test_file_as_list(DATA_PATH)\n",
    "text_clean = get_clean_text(text_raw)\n",
    "n_data = len(text_clean)\n",
    "\n",
    "word_count_dic = get_word_count_dic(text_clean)\n",
    "ner_count_dic = get_ner_count_dic(text_clean)\n",
    "\n",
    "vocab_size = len(word_count_dic)\n",
    "sentence_length = [len(sentence) for sentence in text_clean]\n",
    "count_word = [value for value in word_count_dic.values()]"
   ]
  },
  {
   "cell_type": "code",
   "execution_count": 3,
   "metadata": {
    "scrolled": false
   },
   "outputs": [
    {
     "name": "stdout",
     "output_type": "stream",
     "text": [
      "1. text preview, n_line: 5 -----------------------------------------------------\n",
      "-DOCSTART- -X- -X- O\n",
      "\n",
      "\n",
      "\n",
      "EU NNP B-NP B-ORG\n",
      "\n",
      "rejects VBZ B-VP O\n",
      "\n",
      "German JJ B-NP B-MISC\n",
      "\n",
      "--------------------------------------------------------------------------------\n",
      "\n",
      "\n",
      "2. number of data --------------------------------------------------------------\n",
      "14041\n",
      "--------------------------------------------------------------------------------\n",
      "\n",
      "\n",
      "3. vocab size ------------------------------------------------------------------\n",
      "23623\n",
      "--------------------------------------------------------------------------------\n",
      "\n",
      "\n",
      "4. kinds of NER  ---------------------------------------------------------------\n",
      "['B-ORG', 'O', 'B-MISC', 'B-PER', 'I-PER', 'B-LOC', 'I-ORG', 'I-MISC', 'I-LOC']\n",
      "--------------------------------------------------------------------------------\n",
      "\n",
      "\n",
      "5. hist of word count of each sentence -----------------------------------------\n"
     ]
    },
    {
     "data": {
      "image/png": "[encoded data removed]",
      "text/plain": [
       "<Figure size 432x288 with 1 Axes>"
      ]
     },
     "metadata": {
      "needs_background": "light"
     },
     "output_type": "display_data"
    },
    {
     "name": "stdout",
     "output_type": "stream",
     "text": [
      "--------------------------------------------------------------------------------\n",
      "\n",
      "\n",
      "6. describe word count of each sentence ----------------------------------------\n",
      "mean: 14.501887329962253\n",
      "std: 11.602342778538237\n",
      "max: 113\n",
      "min: 1\n",
      "median: 10.0\n",
      "25 percentile: 6.0\n",
      "75 percentile: 22.0\n",
      "--------------------------------------------------------------------------------\n",
      "\n",
      "\n",
      "7. log hist of count of each word ----------------------------------------------\n"
     ]
    },
    {
     "data": {
      "image/png": "[encoded data removed]",
      "text/plain": [
       "<Figure size 432x288 with 1 Axes>"
      ]
     },
     "metadata": {
      "needs_background": "light"
     },
     "output_type": "display_data"
    },
    {
     "name": "stdout",
     "output_type": "stream",
     "text": [
      "--------------------------------------------------------------------------------\n",
      "\n",
      "\n",
      "8. describe count of each word -------------------------------------------------\n",
      "mean: 8.619608009143631\n",
      "std: 106.98889801400162\n",
      "max: 7374\n",
      "min: 1\n",
      "median: 2.0\n",
      "25 percentile: 1.0\n",
      "75 percentile: 4.0\n",
      "--------------------------------------------------------------------------------\n",
      "\n",
      "\n",
      "9. bar plot of count by NER  ---------------------------------------------------\n"
     ]
    },
    {
     "data": {
      "image/png": "[encoded data removed]",
      "text/plain": [
       "<Figure size 432x288 with 1 Axes>"
      ]
     },
     "metadata": {
      "needs_background": "light"
     },
     "output_type": "display_data"
    },
    {
     "name": "stdout",
     "output_type": "stream",
     "text": [
      "--------------------------------------------------------------------------------\n",
      "\n",
      "\n"
     ]
    }
   ],
   "source": [
    "division_length = 80\n",
    "print(\"1. text preview, n_line: 5 \".ljust(division_length, '-'))\n",
    "preview_text_file(DATA_PATH, n_line=5)\n",
    "print(\"-\" * division_length)\n",
    "print()\n",
    "print()\n",
    "\n",
    "print(\"2. number of data \".ljust(division_length, '-'))\n",
    "print(n_data)\n",
    "print(\"-\" * division_length)\n",
    "print()\n",
    "print()\n",
    "\n",
    "print(\"3. vocab size \".ljust(division_length, '-'))\n",
    "print(vocab_size)\n",
    "print(\"-\" * division_length)\n",
    "print()\n",
    "print()\n",
    "\n",
    "\n",
    "print(\"4. kinds of NER  \".ljust(division_length, '-'))\n",
    "print(list(ner_count_dic.keys()))\n",
    "print(\"-\" * division_length)\n",
    "print()\n",
    "print()\n",
    "\n",
    "print(\"5. hist of word count of each sentence \".ljust(division_length, '-'))\n",
    "plt.hist(sentence_length, bins=50)\n",
    "plt.xlabel(\"word count of each sentence\")\n",
    "plt.ylabel(\"count of sentences\")\n",
    "plt.show()\n",
    "print(\"-\" * division_length)\n",
    "print()\n",
    "print()\n",
    "\n",
    "print(\"6. describe word count of each sentence \".ljust(division_length, '-'))\n",
    "print(\"mean:\", np.mean(sentence_length))\n",
    "print(\"std:\", np.std(sentence_length))\n",
    "print(\"max:\", np.max(sentence_length))\n",
    "print(\"min:\", np.min(sentence_length))\n",
    "print(\"median:\", np.median(sentence_length))\n",
    "print(\"25 percentile:\", np.percentile(sentence_length, 25))\n",
    "print(\"75 percentile:\", np.percentile(sentence_length, 75))\n",
    "print(\"-\" * division_length)\n",
    "print()\n",
    "print()\n",
    "\n",
    "print(\"7. log hist of count of each word \".ljust(division_length, '-'))\n",
    "plt.hist(count_word, bins=50)\n",
    "plt.yscale('log')\n",
    "plt.xlabel(\"word count\")\n",
    "plt.ylabel(\"log count of word count\")\n",
    "plt.show()\n",
    "print(\"-\" * division_length)\n",
    "print()\n",
    "print()\n",
    "\n",
    "print(\"8. describe count of each word \".ljust(division_length, '-'))\n",
    "print(\"mean:\", np.mean(count_word))\n",
    "print(\"std:\", np.std(count_word))\n",
    "print(\"max:\", np.max(count_word))\n",
    "print(\"min:\", np.min(count_word))\n",
    "print(\"median:\", np.median(count_word))\n",
    "print(\"25 percentile:\", np.percentile(count_word, 25))\n",
    "print(\"75 percentile:\", np.percentile(count_word, 75))\n",
    "print(\"-\" * division_length)\n",
    "print()\n",
    "print()\n",
    "\n",
    "print(\"9. bar plot of count by NER  \".ljust(division_length, '-'))\n",
    "x = []\n",
    "y = []\n",
    "for key, value in ner_count_dic.items():\n",
    "    x.append(key)\n",
    "    y.append(value)\n",
    "plt.bar(x, y)\n",
    "plt.xlabel(\"NER\")\n",
    "plt.ylabel(\"count\")\n",
    "plt.show()\n",
    "print(\"-\" * division_length)\n",
    "print()\n",
    "print()"
   ]
  },
  {
   "cell_type": "markdown",
   "metadata": {},
   "source": [
    "# ESTSOFT NER DATA EDA\n",
    "\n",
    "1. text preview\n",
    "   - 주어진 텍스트는 [단어] [품사 태깅] [청크] [NER]으로 되어있다.\n",
    "   - `-DOCSTART`라는 필요 없는 문자가 텍스트 중간중간에 나타난다.\n",
    "   - 한 문장, 한 문장이 줄 바꿈으로 분리되어있다.\n",
    "2. number of data\n",
    "   - 우리가 사용할 수 있는 훈련 데이터는 총 14041개다.\n",
    "3. vocab size\n",
    "   - 훈련 데이터의 총 단어 개수는 21009개다.\n",
    "4. kinds of NER\n",
    "   - 훈련 데이터의 타겟 값에 해당하는 Named Entity는 총 9개다.\n",
    "5. hist of word count of each sentence\n",
    "   - 문장에 포함된 단어의 개수의 히스토그램을 살펴본 결과 대부분 문장이 70개 이하의 단어로 구성되어있음을 알 수 있다.\n",
    "6. describe word count of each sentence\n",
    "   - 문장에 포함된 단어의 개수의 최댓값은 113개이고 제3 사분위수는 22개이다. \n",
    "   - 대부분 문장이 70 단어 이하임을 고려하여 데이터를 BLSTM 모델에 넣기 전 input 데이터를 단어수를 70개로 패딩 하겠다.\n",
    "7. log hist of count of each word\n",
    "   - 각 단어의 출현 횟수의 로그 스케일링 히스토그램을 살펴봤을 때, 각 단어 별 출현 횟수가 많이 차이 난다는 것을 알 수 있다.\n",
    "8. describe count of each word\n",
    "    - 각 단어의 출현 횟수의 평균은 8 회지만 중위수는 2 회인 것으로 보아 오른쪽 꼬리가 긴 형태의 분포를 갖고 있다.\n",
    "    - 객체명일 경우 count가 낮을 가능성이 높으므로, min count가 일정 이상되지 않을 때, 'unkown'으로 치환하는게 합리적이다.\n",
    "9. bar plot of count by NER\n",
    "   - O에 해당하는 단어가 압도적으로 많다. 정확도로 결과를 측정했을 때 해석의 오해가 있을 수 있다."
   ]
  },
  {
   "cell_type": "code",
   "execution_count": 4,
   "metadata": {},
   "outputs": [],
   "source": [
    "SAVE_ROOT = 'dataset'\n",
    "FILE_NAME = 'train_clean.csv'\n",
    "save_csv_file(SAVE_ROOT, FILE_NAME, text_clean)"
   ]
  },
  {
   "cell_type": "code",
   "execution_count": 5,
   "metadata": {},
   "outputs": [],
   "source": [
    "TEST_NAME = 'test_data.txt'\n",
    "TEST_PATH = os.path.join(DATA_ROOT, TEST_NAME)\n",
    "\n",
    "test_raw = get_test_file_as_list(TEST_PATH)\n",
    "test_clean = get_clean_text(test_raw)\n",
    "\n",
    "FILE_NAME = 'test_clean.csv'\n",
    "save_csv_file(SAVE_ROOT, FILE_NAME, test_clean)"
   ]
  },
  {
   "cell_type": "code",
   "execution_count": 6,
   "metadata": {},
   "outputs": [],
   "source": [
    "# hyper parameter\n",
    "max_sentence_length = 70  # 실험해보기\n",
    "min_word_count = 5  # 실험해보기\n",
    "embedding_size = 32\n",
    "n_hidden1 = 50\n",
    "n_hidden2 = 32\n",
    "batch_size = 128\n",
    "epochs = 5\n",
    "\n",
    "POS_TAG_CONFIG = {\n",
    "    'max_sentence_length': max_sentence_length,\n",
    "    'min_word_count': min_word_count,\n",
    "    'embedding_size': embedding_size,\n",
    "    'n_hidden1': n_hidden1,\n",
    "    'n_hidden2': n_hidden2,\n",
    "    'batch_size': batch_size,\n",
    "    'epochs': epochs,\n",
    "}\n",
    "\n",
    "\n",
    "CONFIG_ROOT = 'CONFIG'\n",
    "FILE_NAME = 'POS_TAG_CONFIG.json'\n",
    "if not os.path.isdir(CONFIG_ROOT):\n",
    "    os.makedirs(CONFIG_ROOT)\n",
    "json_dumps = json.dumps(POS_TAG_CONFIG)\n",
    "with open('./CONFIG/POS_TAG_CONFIG.json', 'w') as f:\n",
    "    f.write(json_dumps)"
   ]
  },
  {
   "cell_type": "code",
   "execution_count": 3,
   "metadata": {},
   "outputs": [],
   "source": [
    "from nltk.tag import pos_tag\n",
    "from nltk.tokenize import word_tokenize"
   ]
  },
  {
   "cell_type": "code",
   "execution_count": 8,
   "metadata": {},
   "outputs": [
    {
     "data": {
      "text/plain": [
       "[('apple', 'NN'),\n",
       " ('Apple', 'NNP'),\n",
       " ('Kevin', 'NNP'),\n",
       " ('Bannana', 'NNP'),\n",
       " ('TRIP', 'NNP')]"
      ]
     },
     "execution_count": 8,
     "metadata": {},
     "output_type": "execute_result"
    }
   ],
   "source": [
    "pos_tag(word_tokenize('apple Apple Kevin Bannana TRIP'))"
   ]
  },
  {
   "cell_type": "code",
   "execution_count": null,
   "metadata": {},
   "outputs": [],
   "source": []
  }
 ],
 "metadata": {
  "kernelspec": {
   "display_name": "Python 3",
   "language": "python",
   "name": "python3"
  },
  "language_info": {
   "codemirror_mode": {
    "name": "ipython",
    "version": 3
   },
   "file_extension": ".py",
   "mimetype": "text/x-python",
   "name": "python",
   "nbconvert_exporter": "python",
   "pygments_lexer": "ipython3",
   "version": "3.6.4"
  }
 },
 "nbformat": 4,
 "nbformat_minor": 2
}
